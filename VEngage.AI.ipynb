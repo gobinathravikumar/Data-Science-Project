{
 "cells": [
  {
   "cell_type": "code",
   "execution_count": 45,
   "id": "7c686f15",
   "metadata": {},
   "outputs": [
    {
     "name": "stdout",
     "output_type": "stream",
     "text": [
      "(1, 'Doe', 'john.doe@example.com', 1234567890, 9876543210)\n",
      "(2, 'Smith', 'jane.smith@example.com', 2345678901, 8765432109)\n",
      "(3, 'Johnson', 'bob.johnson@example.com', 3456789012, 7654321098)\n",
      "(4, 'Williams', 'alice.williams@example.com', 4567890123, 6543210987)\n",
      "(5, 'Davis', 'eva.davis@example.com', 5678901234, 5432109876)\n",
      "(6, 'Brown', 'michael.brown@example.com', 6789012345, 4321008765)\n",
      "(7, 'Wilson', 'sara.wilson@example.com', 7890123456, 3210987654)\n",
      "(8, 'Taylor', 'david.taylor@example.com', 8901234567, 2109876543)\n",
      "(9, 'Miller', 'emily.miller@example.com', 9012345678, 1098765432)\n",
      "(10, 'Anderson', 'chris.anderson@example.com', 123456789, 9876543210)\n",
      "[(1, 'Doe', 'john.doe@example.com', 1234567890, 9876543210), (2, 'Smith', 'jane.smith@example.com', 2345678901, 8765432109), (3, 'Johnson', 'bob.johnson@example.com', 3456789012, 7654321098), (4, 'Williams', 'alice.williams@example.com', 4567890123, 6543210987), (5, 'Davis', 'eva.davis@example.com', 5678901234, 5432109876), (6, 'Brown', 'michael.brown@example.com', 6789012345, 4321008765), (7, 'Wilson', 'sara.wilson@example.com', 7890123456, 3210987654), (8, 'Taylor', 'david.taylor@example.com', 8901234567, 2109876543), (9, 'Miller', 'emily.miller@example.com', 9012345678, 1098765432), (10, 'Anderson', 'chris.anderson@example.com', 123456789, 9876543210)]\n",
      "(1, 'Doe', 'john.doe@example.com', 1234567890, 9876543210)\n",
      "[(1, 'Doe', 'john.doe@example.com', 1234567890, 9876543210)]\n",
      "[]\n",
      "(1, 'Doe', 'john.doe@example.com', 1234567890, 9876543210)\n",
      "(2, 'Smith', 'jane.smith@example.com', 2345678901, 8765432109)\n",
      "(3, 'Johnson', 'bob.johnson@example.com', 3456789012, 7654321098)\n",
      "(4, 'Williams', 'alice.williams@example.com', 4567890123, 6543210987)\n",
      "(5, 'Davis', 'eva.davis@example.com', 5678901234, 5432109876)\n",
      "(6, 'Brown', 'michael.brown@example.com', 6789012345, 4321008765)\n",
      "(7, 'Wilson', 'sara.wilson@example.com', 7890123456, 3210987654)\n",
      "(8, 'Taylor', 'david.taylor@example.com', 8901234567, 2109876543)\n",
      "(9, 'Miller', 'emily.miller@example.com', 9012345678, 1098765432)\n",
      "(10, 'Anderson', 'chris.anderson@example.com', 123456789, 9876543210)\n",
      "(11, 'Test', 'test@test.xyz', 1234456, 1233233)\n",
      "[(1, 'Doe', 'john.doe@example.com', 1234567890, 9876543210), (2, 'Smith', 'jane.smith@example.com', 2345678901, 8765432109), (3, 'Johnson', 'bob.johnson@example.com', 3456789012, 7654321098), (4, 'Williams', 'alice.williams@example.com', 4567890123, 6543210987), (5, 'Davis', 'eva.davis@example.com', 5678901234, 5432109876), (6, 'Brown', 'michael.brown@example.com', 6789012345, 4321008765), (7, 'Wilson', 'sara.wilson@example.com', 7890123456, 3210987654), (8, 'Taylor', 'david.taylor@example.com', 8901234567, 2109876543), (9, 'Miller', 'emily.miller@example.com', 9012345678, 1098765432), (10, 'Anderson', 'chris.anderson@example.com', 123456789, 9876543210), (11, 'Test', 'test@test.xyz', 1234456, 1233233)]\n",
      "[]\n",
      "(1, 'Doe', 'john.doe@example.com', 1234567890, 9876543210)\n",
      "(3, 'Johnson', 'bob.johnson@example.com', 3456789012, 7654321098)\n",
      "(4, 'Williams', 'alice.williams@example.com', 4567890123, 6543210987)\n",
      "(5, 'Davis', 'eva.davis@example.com', 5678901234, 5432109876)\n",
      "(6, 'Brown', 'michael.brown@example.com', 6789012345, 4321008765)\n",
      "(7, 'Wilson', 'sara.wilson@example.com', 7890123456, 3210987654)\n",
      "(8, 'Taylor', 'david.taylor@example.com', 8901234567, 2109876543)\n",
      "(9, 'Miller', 'emily.miller@example.com', 9012345678, 1098765432)\n",
      "(10, 'Anderson', 'chris.anderson@example.com', 123456789, 9876543210)\n",
      "(11, 'Test', 'test@test.xyz', 1234456, 1233233)\n",
      "[(1, 'Doe', 'john.doe@example.com', 1234567890, 9876543210), (3, 'Johnson', 'bob.johnson@example.com', 3456789012, 7654321098), (4, 'Williams', 'alice.williams@example.com', 4567890123, 6543210987), (5, 'Davis', 'eva.davis@example.com', 5678901234, 5432109876), (6, 'Brown', 'michael.brown@example.com', 6789012345, 4321008765), (7, 'Wilson', 'sara.wilson@example.com', 7890123456, 3210987654), (8, 'Taylor', 'david.taylor@example.com', 8901234567, 2109876543), (9, 'Miller', 'emily.miller@example.com', 9012345678, 1098765432), (10, 'Anderson', 'chris.anderson@example.com', 123456789, 9876543210), (11, 'Test', 'test@test.xyz', 1234456, 1233233)]\n",
      "None\n"
     ]
    }
   ],
   "source": [
    "import sqlite3\n",
    "import csv\n",
    "import json\n",
    "import sqlparse\n",
    "#import needed packages to work on this requirements\n",
    "#then we connect the sql using of sqllit3 package to connect sql and using CURD operation to required file formet \n",
    "class PhoneBookManager:\n",
    "    def __init__(self, db_file):\n",
    "        self.conn = sqlite3.connect(db_file)\n",
    "        self.create_table()\n",
    "\n",
    "    def create_table(self):\n",
    "        query = '''\n",
    "        CREATE TABLE IF NOT EXISTS phonebooks (\n",
    "            id INTEGER PRIMARY KEY AUTOINCREMENT,\n",
    "            Name TEXT,\n",
    "            Email TEXT,\n",
    "            Phone1 NUMBER,\n",
    "            Phone2 NUMBER\n",
    "        )\n",
    "        '''\n",
    "        self.conn.execute(query)\n",
    "        self.conn.commit()\n",
    "\n",
    "    def read_from_csv(self, csv_file):\n",
    "        with open(csv_file, 'r') as file:\n",
    "            reader = csv.DictReader(file)\n",
    "            for row in reader:\n",
    "                self.insert_record(row['Name'], row['Email'], row['Phone1'], row['Phone2'])\n",
    "\n",
    "\n",
    "    def insert_record(self, name, email, phone1, phone2):\n",
    "        query = '''\n",
    "        INSERT INTO phonebooks (Name, Email, Phone1, Phone2)\n",
    "        VALUES (?, ?, ?, ?)\n",
    "        '''\n",
    "        self.conn.execute(query, (name, email, phone1, phone2))\n",
    "        self.conn.commit()\n",
    "\n",
    "    def execute_query(self, query):\n",
    "        cursor = self.conn.execute(query)\n",
    "        result = cursor.fetchall()\n",
    "        for row in result:\n",
    "            print(row)\n",
    "        return result\n",
    "\n",
    "    def close_connection(self):\n",
    "        self.conn.close()\n",
    "\n",
    "# then used the function with get the required data on the sql level\n",
    "if __name__ == \"__main__\":\n",
    "    phone_book_manager = PhoneBookManager(\"phone_book.db\")\n",
    "\n",
    "    # Reading from CSV file\n",
    "    phone_book_manager.read_from_csv(r\"C:\\Users\\Lenovo\\Downloads\\Phonebooks.csv\")\n",
    "\n",
    "  \n",
    "    \n",
    "    #phone_book_manager.execute_query(\"DELETE FROM phone;\")--- its using for only test perpose\n",
    "    #queries as per the requirements\n",
    "    re1=phone_book_manager.execute_query(\"SELECT * FROM phonebooks;\")\n",
    "    print(re1)#this print statement get the records from phonebooks table in sql\n",
    "    re2=phone_book_manager.execute_query(\"SELECT * FROM phonebooks WHERE Name='Doe';\")\n",
    "    print(re2)#this print statement get the records from phonebooks where name was Doe\n",
    "    phone_book_manager.execute_query(\"INSERT INTO phonebooks (Name, Email, Phone1, Phone2) \"\n",
    "                                     \"VALUES ('Test', 'test@test.xyz', '1234456', '1233233');\")#this print statement update the phonebooks table in sql with new record\n",
    "    re3=phone_book_manager.execute_query(\"SELECT * FROM phonebooks;\")\n",
    "    print(re3)#this print statement verify to the new record is running successful or not\n",
    "    phone_book_manager.execute_query(\"DELETE FROM phonebooks WHERE Name='Smith';\")\n",
    "    #this print statement Remove the record from phonebooks where name was Smith\n",
    "    re4=phone_book_manager.execute_query(\"SELECT * FROM phonebooks;\")\n",
    "    print(re4)#this print statement verify to the Remove record is running successful or not\n",
    "    phone_book_manager.close_connection()\n",
    "   "
   ]
  },
  {
   "cell_type": "code",
   "execution_count": 48,
   "id": "45263fe4",
   "metadata": {},
   "outputs": [
    {
     "data": {
      "text/plain": [
       "[(1, 'Doe', 'john.doe@example.com', 1234567890, 9876543210),\n",
       " (2, 'Smith', 'jane.smith@example.com', 2345678901, 8765432109),\n",
       " (3, 'Johnson', 'bob.johnson@example.com', 3456789012, 7654321098),\n",
       " (4, 'Williams', 'alice.williams@example.com', 4567890123, 6543210987),\n",
       " (5, 'Davis', 'eva.davis@example.com', 5678901234, 5432109876),\n",
       " (6, 'Brown', 'michael.brown@example.com', 6789012345, 4321008765),\n",
       " (7, 'Wilson', 'sara.wilson@example.com', 7890123456, 3210987654),\n",
       " (8, 'Taylor', 'david.taylor@example.com', 8901234567, 2109876543),\n",
       " (9, 'Miller', 'emily.miller@example.com', 9012345678, 1098765432),\n",
       " (10, 'Anderson', 'chris.anderson@example.com', 123456789, 9876543210)]"
      ]
     },
     "execution_count": 48,
     "metadata": {},
     "output_type": "execute_result"
    }
   ],
   "source": [
    "re1"
   ]
  },
  {
   "cell_type": "code",
   "execution_count": 49,
   "id": "30526f58",
   "metadata": {},
   "outputs": [
    {
     "data": {
      "text/plain": [
       "[(1, 'Doe', 'john.doe@example.com', 1234567890, 9876543210)]"
      ]
     },
     "execution_count": 49,
     "metadata": {},
     "output_type": "execute_result"
    }
   ],
   "source": [
    "re2"
   ]
  },
  {
   "cell_type": "code",
   "execution_count": 53,
   "id": "b20c7159",
   "metadata": {},
   "outputs": [
    {
     "data": {
      "text/plain": [
       "[]"
      ]
     },
     "execution_count": 53,
     "metadata": {},
     "output_type": "execute_result"
    }
   ],
   "source": [
    "re3"
   ]
  },
  {
   "cell_type": "code",
   "execution_count": 51,
   "id": "a3768f22",
   "metadata": {},
   "outputs": [
    {
     "data": {
      "text/plain": [
       "[(1, 'Doe', 'john.doe@example.com', 1234567890, 9876543210),\n",
       " (3, 'Johnson', 'bob.johnson@example.com', 3456789012, 7654321098),\n",
       " (4, 'Williams', 'alice.williams@example.com', 4567890123, 6543210987),\n",
       " (5, 'Davis', 'eva.davis@example.com', 5678901234, 5432109876),\n",
       " (6, 'Brown', 'michael.brown@example.com', 6789012345, 4321008765),\n",
       " (7, 'Wilson', 'sara.wilson@example.com', 7890123456, 3210987654),\n",
       " (8, 'Taylor', 'david.taylor@example.com', 8901234567, 2109876543),\n",
       " (9, 'Miller', 'emily.miller@example.com', 9012345678, 1098765432),\n",
       " (10, 'Anderson', 'chris.anderson@example.com', 123456789, 9876543210),\n",
       " (11, 'Test', 'test@test.xyz', 1234456, 1233233)]"
      ]
     },
     "execution_count": 51,
     "metadata": {},
     "output_type": "execute_result"
    }
   ],
   "source": [
    "re41"
   ]
  },
  {
   "cell_type": "code",
   "execution_count": null,
   "id": "a4d03479",
   "metadata": {},
   "outputs": [],
   "source": []
  },
  {
   "cell_type": "code",
   "execution_count": null,
   "id": "3aa0f761",
   "metadata": {},
   "outputs": [],
   "source": []
  },
  {
   "cell_type": "code",
   "execution_count": null,
   "id": "7e2d6066",
   "metadata": {},
   "outputs": [],
   "source": []
  },
  {
   "cell_type": "code",
   "execution_count": null,
   "id": "9e1c6fe8",
   "metadata": {},
   "outputs": [],
   "source": []
  },
  {
   "cell_type": "code",
   "execution_count": 1,
   "id": "df9b27a1",
   "metadata": {},
   "outputs": [],
   "source": []
  },
  {
   "cell_type": "code",
   "execution_count": null,
   "id": "68db515a",
   "metadata": {},
   "outputs": [],
   "source": []
  }
 ],
 "metadata": {
  "kernelspec": {
   "display_name": "Python 3 (ipykernel)",
   "language": "python",
   "name": "python3"
  },
  "language_info": {
   "codemirror_mode": {
    "name": "ipython",
    "version": 3
   },
   "file_extension": ".py",
   "mimetype": "text/x-python",
   "name": "python",
   "nbconvert_exporter": "python",
   "pygments_lexer": "ipython3",
   "version": "3.11.2"
  }
 },
 "nbformat": 4,
 "nbformat_minor": 5
}
